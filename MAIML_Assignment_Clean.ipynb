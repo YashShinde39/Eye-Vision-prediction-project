{
 "cells": [
  {
   "cell_type": "markdown",
   "id": "9fb142a9",
   "metadata": {},
   "source": [
    "# Eye Vision Prediction based on Device Usage & Type\n",
    "\n",
    "**Objective:** Predict vision status/severity using self-reported and logged electronic device usage (mobile, laptop, TV, tablet), usage patterns (hours/day, continuous session length, night mode, viewing distance), and basic demographics. Target can be binary (normal vs impaired) or ordinal (e.g., normal → mild → moderate → severe)."
   ]
  },
  {
   "cell_type": "markdown",
   "id": "857c9fc1",
   "metadata": {},
   "source": [
    "## 1. Import Libraries"
   ]
  },
  {
   "cell_type": "code",
   "execution_count": 7,
   "id": "27c2d95e",
   "metadata": {},
   "outputs": [
    {
     "name": "stdout",
     "output_type": "stream",
     "text": [
      "Libraries imported successfully!\n"
     ]
    }
   ],
   "source": [
    "# Import libraries\n",
    "import pandas as pd\n",
    "import numpy as np\n",
    "import matplotlib.pyplot as plt\n",
    "import seaborn as sns\n",
    "from sklearn.model_selection import train_test_split\n",
    "from sklearn.preprocessing import LabelEncoder, StandardScaler\n",
    "from sklearn.ensemble import RandomForestRegressor\n",
    "from sklearn.metrics import mean_squared_error, r2_score\n",
    "import warnings\n",
    "warnings.filterwarnings('ignore')\n",
    "\n",
    "print('Libraries imported successfully!')"
   ]
  },
  {
   "cell_type": "markdown",
   "id": "a6144772",
   "metadata": {},
   "source": [
    "## 2. Load the Data"
   ]
  },
  {
   "cell_type": "code",
   "execution_count": 8,
   "id": "eaa436b7",
   "metadata": {},
   "outputs": [
    {
     "name": "stdout",
     "output_type": "stream",
     "text": [
      "Dataset shape: (83, 16)\n"
     ]
    },
    {
     "data": {
      "application/vnd.microsoft.datawrangler.viewer.v0+json": {
       "columns": [
        {
         "name": "index",
         "rawType": "int64",
         "type": "integer"
        },
        {
         "name": "age",
         "rawType": "int64",
         "type": "integer"
        },
        {
         "name": " gender",
         "rawType": "object",
         "type": "string"
        },
        {
         "name": " device_type",
         "rawType": "object",
         "type": "string"
        },
        {
         "name": " daily_hours",
         "rawType": "float64",
         "type": "float"
        },
        {
         "name": " session_length",
         "rawType": "float64",
         "type": "float"
        },
        {
         "name": " breaks",
         "rawType": "int64",
         "type": "integer"
        },
        {
         "name": " font_size",
         "rawType": "object",
         "type": "string"
        },
        {
         "name": " brightness",
         "rawType": "object",
         "type": "string"
        },
        {
         "name": " dark_mode",
         "rawType": "object",
         "type": "string"
        },
        {
         "name": " outdoor_time",
         "rawType": "float64",
         "type": "float"
        },
        {
         "name": " viewing_distance",
         "rawType": "int64",
         "type": "integer"
        },
        {
         "name": " screen_height",
         "rawType": "object",
         "type": "string"
        },
        {
         "name": " lighting",
         "rawType": "object",
         "type": "string"
        },
        {
         "name": " sleep_quality",
         "rawType": "int64",
         "type": "integer"
        },
        {
         "name": " headache_freq",
         "rawType": "int64",
         "type": "integer"
        },
        {
         "name": " eyestrain_freq",
         "rawType": "int64",
         "type": "integer"
        }
       ],
       "ref": "5f8c6810-d08f-4202-be92-9554544f9713",
       "rows": [
        [
         "0",
         "16",
         " female",
         " mobile     ",
         "2.3",
         "32.4",
         "0",
         " small    ",
         " high      ",
         " yes      ",
         "2.1",
         "40",
         " below_eye    ",
         " bright  ",
         "4",
         "2",
         "2"
        ],
        [
         "1",
         "22",
         " male  ",
         " laptop     ",
         "5.7",
         "95.2",
         "2",
         " medium   ",
         " medium    ",
         " yes      ",
         "0.7",
         "55",
         " below_eye    ",
         " normal  ",
         "3",
         "3",
         "2"
        ],
        [
         "2",
         "35",
         " male  ",
         " laptop     ",
         "4.1",
         "80.5",
         "1",
         " large    ",
         " high      ",
         " no       ",
         "1.0",
         "70",
         " above_eye    ",
         " dim     ",
         "2",
         "1",
         "1"
        ],
        [
         "3",
         "27",
         " male  ",
         " tablet     ",
         "3.9",
         "61.7",
         "3",
         " medium   ",
         " low       ",
         " yes      ",
         "2.5",
         "40",
         " below_eye    ",
         " bright  ",
         "3",
         "2",
         "3"
        ],
        [
         "4",
         "41",
         " female",
         " mobile     ",
         "8.4",
         "155.6",
         "4",
         " medium   ",
         " medium    ",
         " no       ",
         "0.5",
         "35",
         " below_eye    ",
         " bright  ",
         "2",
         "3",
         "4"
        ]
       ],
       "shape": {
        "columns": 16,
        "rows": 5
       }
      },
      "text/html": [
       "<div>\n",
       "<style scoped>\n",
       "    .dataframe tbody tr th:only-of-type {\n",
       "        vertical-align: middle;\n",
       "    }\n",
       "\n",
       "    .dataframe tbody tr th {\n",
       "        vertical-align: top;\n",
       "    }\n",
       "\n",
       "    .dataframe thead th {\n",
       "        text-align: right;\n",
       "    }\n",
       "</style>\n",
       "<table border=\"1\" class=\"dataframe\">\n",
       "  <thead>\n",
       "    <tr style=\"text-align: right;\">\n",
       "      <th></th>\n",
       "      <th>age</th>\n",
       "      <th>gender</th>\n",
       "      <th>device_type</th>\n",
       "      <th>daily_hours</th>\n",
       "      <th>session_length</th>\n",
       "      <th>breaks</th>\n",
       "      <th>font_size</th>\n",
       "      <th>brightness</th>\n",
       "      <th>dark_mode</th>\n",
       "      <th>outdoor_time</th>\n",
       "      <th>viewing_distance</th>\n",
       "      <th>screen_height</th>\n",
       "      <th>lighting</th>\n",
       "      <th>sleep_quality</th>\n",
       "      <th>headache_freq</th>\n",
       "      <th>eyestrain_freq</th>\n",
       "    </tr>\n",
       "  </thead>\n",
       "  <tbody>\n",
       "    <tr>\n",
       "      <th>0</th>\n",
       "      <td>16</td>\n",
       "      <td>female</td>\n",
       "      <td>mobile</td>\n",
       "      <td>2.3</td>\n",
       "      <td>32.4</td>\n",
       "      <td>0</td>\n",
       "      <td>small</td>\n",
       "      <td>high</td>\n",
       "      <td>yes</td>\n",
       "      <td>2.1</td>\n",
       "      <td>40</td>\n",
       "      <td>below_eye</td>\n",
       "      <td>bright</td>\n",
       "      <td>4</td>\n",
       "      <td>2</td>\n",
       "      <td>2</td>\n",
       "    </tr>\n",
       "    <tr>\n",
       "      <th>1</th>\n",
       "      <td>22</td>\n",
       "      <td>male</td>\n",
       "      <td>laptop</td>\n",
       "      <td>5.7</td>\n",
       "      <td>95.2</td>\n",
       "      <td>2</td>\n",
       "      <td>medium</td>\n",
       "      <td>medium</td>\n",
       "      <td>yes</td>\n",
       "      <td>0.7</td>\n",
       "      <td>55</td>\n",
       "      <td>below_eye</td>\n",
       "      <td>normal</td>\n",
       "      <td>3</td>\n",
       "      <td>3</td>\n",
       "      <td>2</td>\n",
       "    </tr>\n",
       "    <tr>\n",
       "      <th>2</th>\n",
       "      <td>35</td>\n",
       "      <td>male</td>\n",
       "      <td>laptop</td>\n",
       "      <td>4.1</td>\n",
       "      <td>80.5</td>\n",
       "      <td>1</td>\n",
       "      <td>large</td>\n",
       "      <td>high</td>\n",
       "      <td>no</td>\n",
       "      <td>1.0</td>\n",
       "      <td>70</td>\n",
       "      <td>above_eye</td>\n",
       "      <td>dim</td>\n",
       "      <td>2</td>\n",
       "      <td>1</td>\n",
       "      <td>1</td>\n",
       "    </tr>\n",
       "    <tr>\n",
       "      <th>3</th>\n",
       "      <td>27</td>\n",
       "      <td>male</td>\n",
       "      <td>tablet</td>\n",
       "      <td>3.9</td>\n",
       "      <td>61.7</td>\n",
       "      <td>3</td>\n",
       "      <td>medium</td>\n",
       "      <td>low</td>\n",
       "      <td>yes</td>\n",
       "      <td>2.5</td>\n",
       "      <td>40</td>\n",
       "      <td>below_eye</td>\n",
       "      <td>bright</td>\n",
       "      <td>3</td>\n",
       "      <td>2</td>\n",
       "      <td>3</td>\n",
       "    </tr>\n",
       "    <tr>\n",
       "      <th>4</th>\n",
       "      <td>41</td>\n",
       "      <td>female</td>\n",
       "      <td>mobile</td>\n",
       "      <td>8.4</td>\n",
       "      <td>155.6</td>\n",
       "      <td>4</td>\n",
       "      <td>medium</td>\n",
       "      <td>medium</td>\n",
       "      <td>no</td>\n",
       "      <td>0.5</td>\n",
       "      <td>35</td>\n",
       "      <td>below_eye</td>\n",
       "      <td>bright</td>\n",
       "      <td>2</td>\n",
       "      <td>3</td>\n",
       "      <td>4</td>\n",
       "    </tr>\n",
       "  </tbody>\n",
       "</table>\n",
       "</div>"
      ],
      "text/plain": [
       "   age   gender   device_type   daily_hours   session_length   breaks  \\\n",
       "0   16   female   mobile                2.3             32.4        0   \n",
       "1   22   male     laptop                5.7             95.2        2   \n",
       "2   35   male     laptop                4.1             80.5        1   \n",
       "3   27   male     tablet                3.9             61.7        3   \n",
       "4   41   female   mobile                8.4            155.6        4   \n",
       "\n",
       "    font_size   brightness   dark_mode   outdoor_time   viewing_distance  \\\n",
       "0   small       high         yes                  2.1                 40   \n",
       "1   medium      medium       yes                  0.7                 55   \n",
       "2   large       high         no                   1.0                 70   \n",
       "3   medium      low          yes                  2.5                 40   \n",
       "4   medium      medium       no                   0.5                 35   \n",
       "\n",
       "    screen_height   lighting   sleep_quality   headache_freq   eyestrain_freq  \n",
       "0   below_eye       bright                 4               2                2  \n",
       "1   below_eye       normal                 3               3                2  \n",
       "2   above_eye       dim                    2               1                1  \n",
       "3   below_eye       bright                 3               2                3  \n",
       "4   below_eye       bright                 2               3                4  "
      ]
     },
     "execution_count": 8,
     "metadata": {},
     "output_type": "execute_result"
    }
   ],
   "source": [
    "# Load the data\n",
    "df = pd.read_csv('df_new.csv')\n",
    "print(f'Dataset shape: {df.shape}')\n",
    "df.head()"
   ]
  },
  {
   "cell_type": "markdown",
   "id": "d8a3c6b4",
   "metadata": {},
   "source": [
    "## 3. Data Exploration"
   ]
  },
  {
   "cell_type": "code",
   "execution_count": 9,
   "id": "5e994b5f",
   "metadata": {},
   "outputs": [
    {
     "name": "stdout",
     "output_type": "stream",
     "text": [
      "<class 'pandas.core.frame.DataFrame'>\n",
      "RangeIndex: 83 entries, 0 to 82\n",
      "Data columns (total 16 columns):\n",
      " #   Column             Non-Null Count  Dtype  \n",
      "---  ------             --------------  -----  \n",
      " 0   age                83 non-null     int64  \n",
      " 1    gender            83 non-null     object \n",
      " 2    device_type       83 non-null     object \n",
      " 3    daily_hours       83 non-null     float64\n",
      " 4    session_length    83 non-null     float64\n",
      " 5    breaks            83 non-null     int64  \n",
      " 6    font_size         83 non-null     object \n",
      " 7    brightness        83 non-null     object \n",
      " 8    dark_mode         83 non-null     object \n",
      " 9    outdoor_time      83 non-null     float64\n",
      " 10   viewing_distance  83 non-null     int64  \n",
      " 11   screen_height     83 non-null     object \n",
      " 12   lighting          83 non-null     object \n",
      " 13   sleep_quality     83 non-null     int64  \n",
      " 14   headache_freq     83 non-null     int64  \n",
      " 15   eyestrain_freq    83 non-null     int64  \n",
      "dtypes: float64(3), int64(6), object(7)\n",
      "memory usage: 10.5+ KB\n",
      "\n"
     ]
    },
    {
     "data": {
      "application/vnd.microsoft.datawrangler.viewer.v0+json": {
       "columns": [
        {
         "name": "index",
         "rawType": "object",
         "type": "string"
        },
        {
         "name": "age",
         "rawType": "float64",
         "type": "float"
        },
        {
         "name": " daily_hours",
         "rawType": "float64",
         "type": "float"
        },
        {
         "name": " session_length",
         "rawType": "float64",
         "type": "float"
        },
        {
         "name": " breaks",
         "rawType": "float64",
         "type": "float"
        },
        {
         "name": " outdoor_time",
         "rawType": "float64",
         "type": "float"
        },
        {
         "name": " viewing_distance",
         "rawType": "float64",
         "type": "float"
        },
        {
         "name": " sleep_quality",
         "rawType": "float64",
         "type": "float"
        },
        {
         "name": " headache_freq",
         "rawType": "float64",
         "type": "float"
        },
        {
         "name": " eyestrain_freq",
         "rawType": "float64",
         "type": "float"
        }
       ],
       "ref": "18c1ece2-871e-4aab-b22c-6fd07c48f4c3",
       "rows": [
        [
         "count",
         "83.0",
         "83.0",
         "83.0",
         "83.0",
         "83.0",
         "83.0",
         "83.0",
         "83.0",
         "83.0"
        ],
        [
         "mean",
         "28.49397590361446",
         "5.796385542168675",
         "80.62289156626505",
         "3.289156626506024",
         "2.392771084337349",
         "41.91566265060241",
         "3.289156626506024",
         "2.3373493975903616",
         "2.5301204819277108"
        ],
        [
         "std",
         "11.759141222559375",
         "2.7069218312991663",
         "43.919680918976226",
         "2.6250673416771044",
         "1.6526979518742368",
         "17.27482647491621",
         "1.3022505892185992",
         "1.3550007509109157",
         "1.223124242314063"
        ],
        [
         "min",
         "13.0",
         "1.0",
         "15.0",
         "0.0",
         "0.0",
         "3.0",
         "1.0",
         "1.0",
         "1.0"
        ],
        [
         "25%",
         "19.0",
         "3.75",
         "40.0",
         "1.5",
         "1.0",
         "30.0",
         "2.0",
         "1.0",
         "1.5"
        ],
        [
         "50%",
         "23.0",
         "5.8",
         "68.2",
         "3.0",
         "2.0",
         "40.0",
         "3.0",
         "2.0",
         "2.0"
        ],
        [
         "75%",
         "36.0",
         "7.0",
         "116.80000000000001",
         "4.0",
         "3.0",
         "52.5",
         "4.0",
         "3.0",
         "3.0"
        ],
        [
         "max",
         "57.0",
         "14.0",
         "180.0",
         "15.0",
         "6.0",
         "80.0",
         "5.0",
         "5.0",
         "5.0"
        ]
       ],
       "shape": {
        "columns": 9,
        "rows": 8
       }
      },
      "text/html": [
       "<div>\n",
       "<style scoped>\n",
       "    .dataframe tbody tr th:only-of-type {\n",
       "        vertical-align: middle;\n",
       "    }\n",
       "\n",
       "    .dataframe tbody tr th {\n",
       "        vertical-align: top;\n",
       "    }\n",
       "\n",
       "    .dataframe thead th {\n",
       "        text-align: right;\n",
       "    }\n",
       "</style>\n",
       "<table border=\"1\" class=\"dataframe\">\n",
       "  <thead>\n",
       "    <tr style=\"text-align: right;\">\n",
       "      <th></th>\n",
       "      <th>age</th>\n",
       "      <th>daily_hours</th>\n",
       "      <th>session_length</th>\n",
       "      <th>breaks</th>\n",
       "      <th>outdoor_time</th>\n",
       "      <th>viewing_distance</th>\n",
       "      <th>sleep_quality</th>\n",
       "      <th>headache_freq</th>\n",
       "      <th>eyestrain_freq</th>\n",
       "    </tr>\n",
       "  </thead>\n",
       "  <tbody>\n",
       "    <tr>\n",
       "      <th>count</th>\n",
       "      <td>83.000000</td>\n",
       "      <td>83.000000</td>\n",
       "      <td>83.000000</td>\n",
       "      <td>83.000000</td>\n",
       "      <td>83.000000</td>\n",
       "      <td>83.000000</td>\n",
       "      <td>83.000000</td>\n",
       "      <td>83.000000</td>\n",
       "      <td>83.000000</td>\n",
       "    </tr>\n",
       "    <tr>\n",
       "      <th>mean</th>\n",
       "      <td>28.493976</td>\n",
       "      <td>5.796386</td>\n",
       "      <td>80.622892</td>\n",
       "      <td>3.289157</td>\n",
       "      <td>2.392771</td>\n",
       "      <td>41.915663</td>\n",
       "      <td>3.289157</td>\n",
       "      <td>2.337349</td>\n",
       "      <td>2.530120</td>\n",
       "    </tr>\n",
       "    <tr>\n",
       "      <th>std</th>\n",
       "      <td>11.759141</td>\n",
       "      <td>2.706922</td>\n",
       "      <td>43.919681</td>\n",
       "      <td>2.625067</td>\n",
       "      <td>1.652698</td>\n",
       "      <td>17.274826</td>\n",
       "      <td>1.302251</td>\n",
       "      <td>1.355001</td>\n",
       "      <td>1.223124</td>\n",
       "    </tr>\n",
       "    <tr>\n",
       "      <th>min</th>\n",
       "      <td>13.000000</td>\n",
       "      <td>1.000000</td>\n",
       "      <td>15.000000</td>\n",
       "      <td>0.000000</td>\n",
       "      <td>0.000000</td>\n",
       "      <td>3.000000</td>\n",
       "      <td>1.000000</td>\n",
       "      <td>1.000000</td>\n",
       "      <td>1.000000</td>\n",
       "    </tr>\n",
       "    <tr>\n",
       "      <th>25%</th>\n",
       "      <td>19.000000</td>\n",
       "      <td>3.750000</td>\n",
       "      <td>40.000000</td>\n",
       "      <td>1.500000</td>\n",
       "      <td>1.000000</td>\n",
       "      <td>30.000000</td>\n",
       "      <td>2.000000</td>\n",
       "      <td>1.000000</td>\n",
       "      <td>1.500000</td>\n",
       "    </tr>\n",
       "    <tr>\n",
       "      <th>50%</th>\n",
       "      <td>23.000000</td>\n",
       "      <td>5.800000</td>\n",
       "      <td>68.200000</td>\n",
       "      <td>3.000000</td>\n",
       "      <td>2.000000</td>\n",
       "      <td>40.000000</td>\n",
       "      <td>3.000000</td>\n",
       "      <td>2.000000</td>\n",
       "      <td>2.000000</td>\n",
       "    </tr>\n",
       "    <tr>\n",
       "      <th>75%</th>\n",
       "      <td>36.000000</td>\n",
       "      <td>7.000000</td>\n",
       "      <td>116.800000</td>\n",
       "      <td>4.000000</td>\n",
       "      <td>3.000000</td>\n",
       "      <td>52.500000</td>\n",
       "      <td>4.000000</td>\n",
       "      <td>3.000000</td>\n",
       "      <td>3.000000</td>\n",
       "    </tr>\n",
       "    <tr>\n",
       "      <th>max</th>\n",
       "      <td>57.000000</td>\n",
       "      <td>14.000000</td>\n",
       "      <td>180.000000</td>\n",
       "      <td>15.000000</td>\n",
       "      <td>6.000000</td>\n",
       "      <td>80.000000</td>\n",
       "      <td>5.000000</td>\n",
       "      <td>5.000000</td>\n",
       "      <td>5.000000</td>\n",
       "    </tr>\n",
       "  </tbody>\n",
       "</table>\n",
       "</div>"
      ],
      "text/plain": [
       "             age   daily_hours   session_length     breaks   outdoor_time  \\\n",
       "count  83.000000     83.000000        83.000000  83.000000      83.000000   \n",
       "mean   28.493976      5.796386        80.622892   3.289157       2.392771   \n",
       "std    11.759141      2.706922        43.919681   2.625067       1.652698   \n",
       "min    13.000000      1.000000        15.000000   0.000000       0.000000   \n",
       "25%    19.000000      3.750000        40.000000   1.500000       1.000000   \n",
       "50%    23.000000      5.800000        68.200000   3.000000       2.000000   \n",
       "75%    36.000000      7.000000       116.800000   4.000000       3.000000   \n",
       "max    57.000000     14.000000       180.000000  15.000000       6.000000   \n",
       "\n",
       "        viewing_distance   sleep_quality   headache_freq   eyestrain_freq  \n",
       "count          83.000000       83.000000       83.000000        83.000000  \n",
       "mean           41.915663        3.289157        2.337349         2.530120  \n",
       "std            17.274826        1.302251        1.355001         1.223124  \n",
       "min             3.000000        1.000000        1.000000         1.000000  \n",
       "25%            30.000000        2.000000        1.000000         1.500000  \n",
       "50%            40.000000        3.000000        2.000000         2.000000  \n",
       "75%            52.500000        4.000000        3.000000         3.000000  \n",
       "max            80.000000        5.000000        5.000000         5.000000  "
      ]
     },
     "execution_count": 9,
     "metadata": {},
     "output_type": "execute_result"
    }
   ],
   "source": [
    "# Basic info and statistics\n",
    "df.info()\n",
    "print()\n",
    "df.describe()"
   ]
  },
  {
   "cell_type": "code",
   "execution_count": 10,
   "id": "3fb1d9ec",
   "metadata": {},
   "outputs": [
    {
     "name": "stdout",
     "output_type": "stream",
     "text": [
      "Missing values:\n"
     ]
    },
    {
     "data": {
      "application/vnd.microsoft.datawrangler.viewer.v0+json": {
       "columns": [
        {
         "name": "index",
         "rawType": "object",
         "type": "string"
        },
        {
         "name": "0",
         "rawType": "int64",
         "type": "integer"
        }
       ],
       "ref": "fdf057a1-6cd8-4666-9378-b13572d874b6",
       "rows": [
        [
         "age",
         "0"
        ],
        [
         " gender",
         "0"
        ],
        [
         " device_type",
         "0"
        ],
        [
         " daily_hours",
         "0"
        ],
        [
         " session_length",
         "0"
        ],
        [
         " breaks",
         "0"
        ],
        [
         " font_size",
         "0"
        ],
        [
         " brightness",
         "0"
        ],
        [
         " dark_mode",
         "0"
        ],
        [
         " outdoor_time",
         "0"
        ],
        [
         " viewing_distance",
         "0"
        ],
        [
         " screen_height",
         "0"
        ],
        [
         " lighting",
         "0"
        ],
        [
         " sleep_quality",
         "0"
        ],
        [
         " headache_freq",
         "0"
        ],
        [
         " eyestrain_freq",
         "0"
        ]
       ],
       "shape": {
        "columns": 1,
        "rows": 16
       }
      },
      "text/plain": [
       "age                  0\n",
       " gender              0\n",
       " device_type         0\n",
       " daily_hours         0\n",
       " session_length      0\n",
       " breaks              0\n",
       " font_size           0\n",
       " brightness          0\n",
       " dark_mode           0\n",
       " outdoor_time        0\n",
       " viewing_distance    0\n",
       " screen_height       0\n",
       " lighting            0\n",
       " sleep_quality       0\n",
       " headache_freq       0\n",
       " eyestrain_freq      0\n",
       "dtype: int64"
      ]
     },
     "execution_count": 10,
     "metadata": {},
     "output_type": "execute_result"
    }
   ],
   "source": [
    "# Check for missing values\n",
    "print('Missing values:')\n",
    "df.isnull().sum()"
   ]
  },
  {
   "cell_type": "markdown",
   "id": "a561b397",
   "metadata": {},
   "source": [
    "## 4. Exploratory Data Analysis (EDA)"
   ]
  },
  {
   "cell_type": "code",
   "execution_count": null,
   "id": "05f16733",
   "metadata": {},
   "outputs": [
    {
     "ename": "ValueError",
     "evalue": "Could not interpret value `gender` for `y`. An entry with this name does not appear in `data`.",
     "output_type": "error",
     "traceback": [
      "\u001b[31m---------------------------------------------------------------------------\u001b[39m",
      "\u001b[31mValueError\u001b[39m                                Traceback (most recent call last)",
      "\u001b[36mCell\u001b[39m\u001b[36m \u001b[39m\u001b[32mIn[11]\u001b[39m\u001b[32m, line 8\u001b[39m\n\u001b[32m      6\u001b[39m \u001b[38;5;28;01mfor\u001b[39;00m col \u001b[38;5;129;01min\u001b[39;00m categorical_cols:\n\u001b[32m      7\u001b[39m     plt.figure(figsize=(\u001b[32m8\u001b[39m,\u001b[32m4\u001b[39m))\n\u001b[32m----> \u001b[39m\u001b[32m8\u001b[39m     \u001b[43msns\u001b[49m\u001b[43m.\u001b[49m\u001b[43mcountplot\u001b[49m\u001b[43m(\u001b[49m\u001b[43my\u001b[49m\u001b[43m=\u001b[49m\u001b[43mcol\u001b[49m\u001b[43m,\u001b[49m\u001b[43m \u001b[49m\u001b[43mdata\u001b[49m\u001b[43m=\u001b[49m\u001b[43mdf\u001b[49m\u001b[43m,\u001b[49m\u001b[43m \u001b[49m\u001b[43mpalette\u001b[49m\u001b[43m=\u001b[49m\u001b[33;43m'\u001b[39;49m\u001b[33;43mviridis\u001b[39;49m\u001b[33;43m'\u001b[39;49m\u001b[43m)\u001b[49m\n\u001b[32m      9\u001b[39m     plt.title(\u001b[33mf\u001b[39m\u001b[33m'\u001b[39m\u001b[33mDistribution of \u001b[39m\u001b[38;5;132;01m{\u001b[39;00mcol\u001b[38;5;132;01m}\u001b[39;00m\u001b[33m'\u001b[39m)\n\u001b[32m     10\u001b[39m     plt.tight_layout()\n",
      "\u001b[36mFile \u001b[39m\u001b[32mc:\\Users\\yashs\\AppData\\Local\\Programs\\Python\\Python313\\Lib\\site-packages\\seaborn\\categorical.py:2631\u001b[39m, in \u001b[36mcountplot\u001b[39m\u001b[34m(data, x, y, hue, order, hue_order, orient, color, palette, saturation, fill, hue_norm, stat, width, dodge, gap, log_scale, native_scale, formatter, legend, ax, **kwargs)\u001b[39m\n\u001b[32m   2628\u001b[39m \u001b[38;5;28;01melif\u001b[39;00m x \u001b[38;5;129;01mis\u001b[39;00m \u001b[38;5;129;01mnot\u001b[39;00m \u001b[38;5;28;01mNone\u001b[39;00m \u001b[38;5;129;01mand\u001b[39;00m y \u001b[38;5;129;01mis\u001b[39;00m \u001b[38;5;129;01mnot\u001b[39;00m \u001b[38;5;28;01mNone\u001b[39;00m:\n\u001b[32m   2629\u001b[39m     \u001b[38;5;28;01mraise\u001b[39;00m \u001b[38;5;167;01mTypeError\u001b[39;00m(\u001b[33m\"\u001b[39m\u001b[33mCannot pass values for both `x` and `y`.\u001b[39m\u001b[33m\"\u001b[39m)\n\u001b[32m-> \u001b[39m\u001b[32m2631\u001b[39m p = \u001b[43m_CategoricalAggPlotter\u001b[49m\u001b[43m(\u001b[49m\n\u001b[32m   2632\u001b[39m \u001b[43m    \u001b[49m\u001b[43mdata\u001b[49m\u001b[43m=\u001b[49m\u001b[43mdata\u001b[49m\u001b[43m,\u001b[49m\n\u001b[32m   2633\u001b[39m \u001b[43m    \u001b[49m\u001b[43mvariables\u001b[49m\u001b[43m=\u001b[49m\u001b[38;5;28;43mdict\u001b[39;49m\u001b[43m(\u001b[49m\u001b[43mx\u001b[49m\u001b[43m=\u001b[49m\u001b[43mx\u001b[49m\u001b[43m,\u001b[49m\u001b[43m \u001b[49m\u001b[43my\u001b[49m\u001b[43m=\u001b[49m\u001b[43my\u001b[49m\u001b[43m,\u001b[49m\u001b[43m \u001b[49m\u001b[43mhue\u001b[49m\u001b[43m=\u001b[49m\u001b[43mhue\u001b[49m\u001b[43m)\u001b[49m\u001b[43m,\u001b[49m\n\u001b[32m   2634\u001b[39m \u001b[43m    \u001b[49m\u001b[43morder\u001b[49m\u001b[43m=\u001b[49m\u001b[43morder\u001b[49m\u001b[43m,\u001b[49m\n\u001b[32m   2635\u001b[39m \u001b[43m    \u001b[49m\u001b[43morient\u001b[49m\u001b[43m=\u001b[49m\u001b[43morient\u001b[49m\u001b[43m,\u001b[49m\n\u001b[32m   2636\u001b[39m \u001b[43m    \u001b[49m\u001b[43mcolor\u001b[49m\u001b[43m=\u001b[49m\u001b[43mcolor\u001b[49m\u001b[43m,\u001b[49m\n\u001b[32m   2637\u001b[39m \u001b[43m    \u001b[49m\u001b[43mlegend\u001b[49m\u001b[43m=\u001b[49m\u001b[43mlegend\u001b[49m\u001b[43m,\u001b[49m\n\u001b[32m   2638\u001b[39m \u001b[43m\u001b[49m\u001b[43m)\u001b[49m\n\u001b[32m   2640\u001b[39m \u001b[38;5;28;01mif\u001b[39;00m ax \u001b[38;5;129;01mis\u001b[39;00m \u001b[38;5;28;01mNone\u001b[39;00m:\n\u001b[32m   2641\u001b[39m     ax = plt.gca()\n",
      "\u001b[36mFile \u001b[39m\u001b[32mc:\\Users\\yashs\\AppData\\Local\\Programs\\Python\\Python313\\Lib\\site-packages\\seaborn\\categorical.py:67\u001b[39m, in \u001b[36m_CategoricalPlotter.__init__\u001b[39m\u001b[34m(self, data, variables, order, orient, require_numeric, color, legend)\u001b[39m\n\u001b[32m     56\u001b[39m \u001b[38;5;28;01mdef\u001b[39;00m\u001b[38;5;250m \u001b[39m\u001b[34m__init__\u001b[39m(\n\u001b[32m     57\u001b[39m     \u001b[38;5;28mself\u001b[39m,\n\u001b[32m     58\u001b[39m     data=\u001b[38;5;28;01mNone\u001b[39;00m,\n\u001b[32m   (...)\u001b[39m\u001b[32m     64\u001b[39m     legend=\u001b[33m\"\u001b[39m\u001b[33mauto\u001b[39m\u001b[33m\"\u001b[39m,\n\u001b[32m     65\u001b[39m ):\n\u001b[32m---> \u001b[39m\u001b[32m67\u001b[39m     \u001b[38;5;28;43msuper\u001b[39;49m\u001b[43m(\u001b[49m\u001b[43m)\u001b[49m\u001b[43m.\u001b[49m\u001b[34;43m__init__\u001b[39;49m\u001b[43m(\u001b[49m\u001b[43mdata\u001b[49m\u001b[43m=\u001b[49m\u001b[43mdata\u001b[49m\u001b[43m,\u001b[49m\u001b[43m \u001b[49m\u001b[43mvariables\u001b[49m\u001b[43m=\u001b[49m\u001b[43mvariables\u001b[49m\u001b[43m)\u001b[49m\n\u001b[32m     69\u001b[39m     \u001b[38;5;66;03m# This method takes care of some bookkeeping that is necessary because the\u001b[39;00m\n\u001b[32m     70\u001b[39m     \u001b[38;5;66;03m# original categorical plots (prior to the 2021 refactor) had some rules that\u001b[39;00m\n\u001b[32m     71\u001b[39m     \u001b[38;5;66;03m# don't fit exactly into VectorPlotter logic. It may be wise to have a second\u001b[39;00m\n\u001b[32m   (...)\u001b[39m\u001b[32m     76\u001b[39m     \u001b[38;5;66;03m# default VectorPlotter rules. If we do decide to make orient part of the\u001b[39;00m\n\u001b[32m     77\u001b[39m     \u001b[38;5;66;03m# _base variable assignment, we'll want to figure out how to express that.\u001b[39;00m\n\u001b[32m     78\u001b[39m     \u001b[38;5;28;01mif\u001b[39;00m \u001b[38;5;28mself\u001b[39m.input_format == \u001b[33m\"\u001b[39m\u001b[33mwide\u001b[39m\u001b[33m\"\u001b[39m \u001b[38;5;129;01mand\u001b[39;00m orient \u001b[38;5;129;01min\u001b[39;00m [\u001b[33m\"\u001b[39m\u001b[33mh\u001b[39m\u001b[33m\"\u001b[39m, \u001b[33m\"\u001b[39m\u001b[33my\u001b[39m\u001b[33m\"\u001b[39m]:\n",
      "\u001b[36mFile \u001b[39m\u001b[32mc:\\Users\\yashs\\AppData\\Local\\Programs\\Python\\Python313\\Lib\\site-packages\\seaborn\\_base.py:634\u001b[39m, in \u001b[36mVectorPlotter.__init__\u001b[39m\u001b[34m(self, data, variables)\u001b[39m\n\u001b[32m    629\u001b[39m \u001b[38;5;66;03m# var_ordered is relevant only for categorical axis variables, and may\u001b[39;00m\n\u001b[32m    630\u001b[39m \u001b[38;5;66;03m# be better handled by an internal axis information object that tracks\u001b[39;00m\n\u001b[32m    631\u001b[39m \u001b[38;5;66;03m# such information and is set up by the scale_* methods. The analogous\u001b[39;00m\n\u001b[32m    632\u001b[39m \u001b[38;5;66;03m# information for numeric axes would be information about log scales.\u001b[39;00m\n\u001b[32m    633\u001b[39m \u001b[38;5;28mself\u001b[39m._var_ordered = {\u001b[33m\"\u001b[39m\u001b[33mx\u001b[39m\u001b[33m\"\u001b[39m: \u001b[38;5;28;01mFalse\u001b[39;00m, \u001b[33m\"\u001b[39m\u001b[33my\u001b[39m\u001b[33m\"\u001b[39m: \u001b[38;5;28;01mFalse\u001b[39;00m}  \u001b[38;5;66;03m# alt., used DefaultDict\u001b[39;00m\n\u001b[32m--> \u001b[39m\u001b[32m634\u001b[39m \u001b[38;5;28;43mself\u001b[39;49m\u001b[43m.\u001b[49m\u001b[43massign_variables\u001b[49m\u001b[43m(\u001b[49m\u001b[43mdata\u001b[49m\u001b[43m,\u001b[49m\u001b[43m \u001b[49m\u001b[43mvariables\u001b[49m\u001b[43m)\u001b[49m\n\u001b[32m    636\u001b[39m \u001b[38;5;66;03m# TODO Lots of tests assume that these are called to initialize the\u001b[39;00m\n\u001b[32m    637\u001b[39m \u001b[38;5;66;03m# mappings to default values on class initialization. I'd prefer to\u001b[39;00m\n\u001b[32m    638\u001b[39m \u001b[38;5;66;03m# move away from that and only have a mapping when explicitly called.\u001b[39;00m\n\u001b[32m    639\u001b[39m \u001b[38;5;28;01mfor\u001b[39;00m var \u001b[38;5;129;01min\u001b[39;00m [\u001b[33m\"\u001b[39m\u001b[33mhue\u001b[39m\u001b[33m\"\u001b[39m, \u001b[33m\"\u001b[39m\u001b[33msize\u001b[39m\u001b[33m\"\u001b[39m, \u001b[33m\"\u001b[39m\u001b[33mstyle\u001b[39m\u001b[33m\"\u001b[39m]:\n",
      "\u001b[36mFile \u001b[39m\u001b[32mc:\\Users\\yashs\\AppData\\Local\\Programs\\Python\\Python313\\Lib\\site-packages\\seaborn\\_base.py:679\u001b[39m, in \u001b[36mVectorPlotter.assign_variables\u001b[39m\u001b[34m(self, data, variables)\u001b[39m\n\u001b[32m    674\u001b[39m \u001b[38;5;28;01melse\u001b[39;00m:\n\u001b[32m    675\u001b[39m     \u001b[38;5;66;03m# When dealing with long-form input, use the newer PlotData\u001b[39;00m\n\u001b[32m    676\u001b[39m     \u001b[38;5;66;03m# object (internal but introduced for the objects interface)\u001b[39;00m\n\u001b[32m    677\u001b[39m     \u001b[38;5;66;03m# to centralize / standardize data consumption logic.\u001b[39;00m\n\u001b[32m    678\u001b[39m     \u001b[38;5;28mself\u001b[39m.input_format = \u001b[33m\"\u001b[39m\u001b[33mlong\u001b[39m\u001b[33m\"\u001b[39m\n\u001b[32m--> \u001b[39m\u001b[32m679\u001b[39m     plot_data = \u001b[43mPlotData\u001b[49m\u001b[43m(\u001b[49m\u001b[43mdata\u001b[49m\u001b[43m,\u001b[49m\u001b[43m \u001b[49m\u001b[43mvariables\u001b[49m\u001b[43m)\u001b[49m\n\u001b[32m    680\u001b[39m     frame = plot_data.frame\n\u001b[32m    681\u001b[39m     names = plot_data.names\n",
      "\u001b[36mFile \u001b[39m\u001b[32mc:\\Users\\yashs\\AppData\\Local\\Programs\\Python\\Python313\\Lib\\site-packages\\seaborn\\_core\\data.py:58\u001b[39m, in \u001b[36mPlotData.__init__\u001b[39m\u001b[34m(self, data, variables)\u001b[39m\n\u001b[32m     51\u001b[39m \u001b[38;5;28;01mdef\u001b[39;00m\u001b[38;5;250m \u001b[39m\u001b[34m__init__\u001b[39m(\n\u001b[32m     52\u001b[39m     \u001b[38;5;28mself\u001b[39m,\n\u001b[32m     53\u001b[39m     data: DataSource,\n\u001b[32m     54\u001b[39m     variables: \u001b[38;5;28mdict\u001b[39m[\u001b[38;5;28mstr\u001b[39m, VariableSpec],\n\u001b[32m     55\u001b[39m ):\n\u001b[32m     57\u001b[39m     data = handle_data_source(data)\n\u001b[32m---> \u001b[39m\u001b[32m58\u001b[39m     frame, names, ids = \u001b[38;5;28;43mself\u001b[39;49m\u001b[43m.\u001b[49m\u001b[43m_assign_variables\u001b[49m\u001b[43m(\u001b[49m\u001b[43mdata\u001b[49m\u001b[43m,\u001b[49m\u001b[43m \u001b[49m\u001b[43mvariables\u001b[49m\u001b[43m)\u001b[49m\n\u001b[32m     60\u001b[39m     \u001b[38;5;28mself\u001b[39m.frame = frame\n\u001b[32m     61\u001b[39m     \u001b[38;5;28mself\u001b[39m.names = names\n",
      "\u001b[36mFile \u001b[39m\u001b[32mc:\\Users\\yashs\\AppData\\Local\\Programs\\Python\\Python313\\Lib\\site-packages\\seaborn\\_core\\data.py:232\u001b[39m, in \u001b[36mPlotData._assign_variables\u001b[39m\u001b[34m(self, data, variables)\u001b[39m\n\u001b[32m    230\u001b[39m     \u001b[38;5;28;01melse\u001b[39;00m:\n\u001b[32m    231\u001b[39m         err += \u001b[33m\"\u001b[39m\u001b[33mAn entry with this name does not appear in `data`.\u001b[39m\u001b[33m\"\u001b[39m\n\u001b[32m--> \u001b[39m\u001b[32m232\u001b[39m     \u001b[38;5;28;01mraise\u001b[39;00m \u001b[38;5;167;01mValueError\u001b[39;00m(err)\n\u001b[32m    234\u001b[39m \u001b[38;5;28;01melse\u001b[39;00m:\n\u001b[32m    235\u001b[39m \n\u001b[32m    236\u001b[39m     \u001b[38;5;66;03m# Otherwise, assume the value somehow represents data\u001b[39;00m\n\u001b[32m    237\u001b[39m \n\u001b[32m    238\u001b[39m     \u001b[38;5;66;03m# Ignore empty data structures\u001b[39;00m\n\u001b[32m    239\u001b[39m     \u001b[38;5;28;01mif\u001b[39;00m \u001b[38;5;28misinstance\u001b[39m(val, Sized) \u001b[38;5;129;01mand\u001b[39;00m \u001b[38;5;28mlen\u001b[39m(val) == \u001b[32m0\u001b[39m:\n",
      "\u001b[31mValueError\u001b[39m: Could not interpret value `gender` for `y`. An entry with this name does not appear in `data`."
     ]
    },
    {
     "data": {
      "text/plain": [
       "<Figure size 800x400 with 0 Axes>"
      ]
     },
     "metadata": {},
     "output_type": "display_data"
    }
   ],
   "source": [
    "# Define categorical columns\n",
    "categorical_cols = ['gender', 'device_type', 'font_size', 'brightness', 'dark_mode',\n",
    "                   'viewing_distance', 'screen_height', 'lighting']\n",
    "\n",
    "# Plot categorical features\n",
    "for col in categorical_cols:\n",
    "    plt.figure(figsize=(8,4))\n",
    "    sns.countplot(y=col, data=df, palette='viridis')\n",
    "    plt.title(f'Distribution of {col}')\n",
    "    plt.tight_layout()\n",
    "    plt.show()"
   ]
  },
  {
   "cell_type": "code",
   "execution_count": null,
   "id": "247fc61c",
   "metadata": {},
   "outputs": [
    {
     "data": {
      "image/png": "[encoded data removed]",
      "text/plain": [
       "<Figure size 1600x1000 with 9 Axes>"
      ]
     },
     "metadata": {},
     "output_type": "display_data"
    }
   ],
   "source": [
    "# Distribution of numeric features\n",
    "df.hist(figsize=(16,10), bins=20, edgecolor='black')\n",
    "plt.suptitle('Distribution of Numerical Features', fontsize=16, y=1.02)\n",
    "plt.tight_layout()\n",
    "plt.show()"
   ]
  },
  {
   "cell_type": "code",
   "execution_count": null,
   "id": "3ef29a87",
   "metadata": {},
   "outputs": [
    {
     "data": {
      "image/png": "[encoded data removed]",
      "text/plain": [
       "<Figure size 1200x600 with 1 Axes>"
      ]
     },
     "metadata": {},
     "output_type": "display_data"
    }
   ],
   "source": [
    "# Viewing distance analysis\n",
    "plt.figure(figsize=(12,6))\n",
    "ax = sns.countplot(x='viewing_distance', data=df, palette='viridis')\n",
    "plt.xlabel('Viewing Distance', fontsize=14)\n",
    "plt.ylabel('Count', fontsize=14)\n",
    "plt.title('Viewing Distance vs Count', fontsize=16)\n",
    "plt.xticks(rotation=45, fontsize=12)\n",
    "plt.yticks(fontsize=12)\n",
    "plt.grid(axis='y', linestyle='--', alpha=0.7)\n",
    "plt.tight_layout()\n",
    "plt.show()"
   ]
  },
  {
   "cell_type": "markdown",
   "id": "cc3522cd",
   "metadata": {},
   "source": [
    "## 5. Data Preprocessing"
   ]
  },
  {
   "cell_type": "code",
   "execution_count": null,
   "id": "f2ec6a9e",
   "metadata": {},
   "outputs": [
    {
     "name": "stdout",
     "output_type": "stream",
     "text": [
      "Categorical encoding completed!\n"
     ]
    },
    {
     "data": {
      "application/vnd.microsoft.datawrangler.viewer.v0+json": {
       "columns": [
        {
         "name": "index",
         "rawType": "int64",
         "type": "integer"
        },
        {
         "name": "age",
         "rawType": "int64",
         "type": "integer"
        },
        {
         "name": "gender",
         "rawType": "int64",
         "type": "integer"
        },
        {
         "name": "device_type",
         "rawType": "int64",
         "type": "integer"
        },
        {
         "name": "daily_hours",
         "rawType": "float64",
         "type": "float"
        },
        {
         "name": "session_length",
         "rawType": "float64",
         "type": "float"
        },
        {
         "name": "breaks",
         "rawType": "int64",
         "type": "integer"
        },
        {
         "name": "font_size",
         "rawType": "int64",
         "type": "integer"
        },
        {
         "name": "brightness",
         "rawType": "int64",
         "type": "integer"
        },
        {
         "name": "dark_mode",
         "rawType": "int64",
         "type": "integer"
        },
        {
         "name": "outdoor_time",
         "rawType": "float64",
         "type": "float"
        },
        {
         "name": "viewing_distance",
         "rawType": "int64",
         "type": "integer"
        },
        {
         "name": "screen_height",
         "rawType": "int64",
         "type": "integer"
        },
        {
         "name": "lighting",
         "rawType": "int64",
         "type": "integer"
        },
        {
         "name": "sleep_quality",
         "rawType": "int64",
         "type": "integer"
        },
        {
         "name": "headache_freq",
         "rawType": "int64",
         "type": "integer"
        },
        {
         "name": "eyestrain_freq",
         "rawType": "int64",
         "type": "integer"
        }
       ],
       "ref": "814ca096-1ac6-450e-81af-48f75184f55e",
       "rows": [
        [
         "0",
         "16",
         "0",
         "1",
         "2.3",
         "32.4",
         "0",
         "2",
         "0",
         "1",
         "2.1",
         "2",
         "1",
         "0",
         "4",
         "2",
         "2"
        ],
        [
         "1",
         "22",
         "1",
         "0",
         "5.7",
         "95.2",
         "2",
         "1",
         "2",
         "1",
         "0.7",
         "5",
         "1",
         "2",
         "3",
         "3",
         "2"
        ],
        [
         "2",
         "35",
         "1",
         "0",
         "4.1",
         "80.5",
         "1",
         "0",
         "0",
         "0",
         "1.0",
         "8",
         "0",
         "1",
         "2",
         "1",
         "1"
        ],
        [
         "3",
         "27",
         "1",
         "2",
         "3.9",
         "61.7",
         "3",
         "1",
         "1",
         "1",
         "2.5",
         "2",
         "1",
         "0",
         "3",
         "2",
         "3"
        ],
        [
         "4",
         "41",
         "0",
         "1",
         "8.4",
         "155.6",
         "4",
         "1",
         "2",
         "0",
         "0.5",
         "1",
         "1",
         "0",
         "2",
         "3",
         "4"
        ]
       ],
       "shape": {
        "columns": 16,
        "rows": 5
       }
      },
      "text/html": [
       "<div>\n",
       "<style scoped>\n",
       "    .dataframe tbody tr th:only-of-type {\n",
       "        vertical-align: middle;\n",
       "    }\n",
       "\n",
       "    .dataframe tbody tr th {\n",
       "        vertical-align: top;\n",
       "    }\n",
       "\n",
       "    .dataframe thead th {\n",
       "        text-align: right;\n",
       "    }\n",
       "</style>\n",
       "<table border=\"1\" class=\"dataframe\">\n",
       "  <thead>\n",
       "    <tr style=\"text-align: right;\">\n",
       "      <th></th>\n",
       "      <th>age</th>\n",
       "      <th>gender</th>\n",
       "      <th>device_type</th>\n",
       "      <th>daily_hours</th>\n",
       "      <th>session_length</th>\n",
       "      <th>breaks</th>\n",
       "      <th>font_size</th>\n",
       "      <th>brightness</th>\n",
       "      <th>dark_mode</th>\n",
       "      <th>outdoor_time</th>\n",
       "      <th>viewing_distance</th>\n",
       "      <th>screen_height</th>\n",
       "      <th>lighting</th>\n",
       "      <th>sleep_quality</th>\n",
       "      <th>headache_freq</th>\n",
       "      <th>eyestrain_freq</th>\n",
       "    </tr>\n",
       "  </thead>\n",
       "  <tbody>\n",
       "    <tr>\n",
       "      <th>0</th>\n",
       "      <td>16</td>\n",
       "      <td>0</td>\n",
       "      <td>1</td>\n",
       "      <td>2.3</td>\n",
       "      <td>32.4</td>\n",
       "      <td>0</td>\n",
       "      <td>2</td>\n",
       "      <td>0</td>\n",
       "      <td>1</td>\n",
       "      <td>2.1</td>\n",
       "      <td>2</td>\n",
       "      <td>1</td>\n",
       "      <td>0</td>\n",
       "      <td>4</td>\n",
       "      <td>2</td>\n",
       "      <td>2</td>\n",
       "    </tr>\n",
       "    <tr>\n",
       "      <th>1</th>\n",
       "      <td>22</td>\n",
       "      <td>1</td>\n",
       "      <td>0</td>\n",
       "      <td>5.7</td>\n",
       "      <td>95.2</td>\n",
       "      <td>2</td>\n",
       "      <td>1</td>\n",
       "      <td>2</td>\n",
       "      <td>1</td>\n",
       "      <td>0.7</td>\n",
       "      <td>5</td>\n",
       "      <td>1</td>\n",
       "      <td>2</td>\n",
       "      <td>3</td>\n",
       "      <td>3</td>\n",
       "      <td>2</td>\n",
       "    </tr>\n",
       "    <tr>\n",
       "      <th>2</th>\n",
       "      <td>35</td>\n",
       "      <td>1</td>\n",
       "      <td>0</td>\n",
       "      <td>4.1</td>\n",
       "      <td>80.5</td>\n",
       "      <td>1</td>\n",
       "      <td>0</td>\n",
       "      <td>0</td>\n",
       "      <td>0</td>\n",
       "      <td>1.0</td>\n",
       "      <td>8</td>\n",
       "      <td>0</td>\n",
       "      <td>1</td>\n",
       "      <td>2</td>\n",
       "      <td>1</td>\n",
       "      <td>1</td>\n",
       "    </tr>\n",
       "    <tr>\n",
       "      <th>3</th>\n",
       "      <td>27</td>\n",
       "      <td>1</td>\n",
       "      <td>2</td>\n",
       "      <td>3.9</td>\n",
       "      <td>61.7</td>\n",
       "      <td>3</td>\n",
       "      <td>1</td>\n",
       "      <td>1</td>\n",
       "      <td>1</td>\n",
       "      <td>2.5</td>\n",
       "      <td>2</td>\n",
       "      <td>1</td>\n",
       "      <td>0</td>\n",
       "      <td>3</td>\n",
       "      <td>2</td>\n",
       "      <td>3</td>\n",
       "    </tr>\n",
       "    <tr>\n",
       "      <th>4</th>\n",
       "      <td>41</td>\n",
       "      <td>0</td>\n",
       "      <td>1</td>\n",
       "      <td>8.4</td>\n",
       "      <td>155.6</td>\n",
       "      <td>4</td>\n",
       "      <td>1</td>\n",
       "      <td>2</td>\n",
       "      <td>0</td>\n",
       "      <td>0.5</td>\n",
       "      <td>1</td>\n",
       "      <td>1</td>\n",
       "      <td>0</td>\n",
       "      <td>2</td>\n",
       "      <td>3</td>\n",
       "      <td>4</td>\n",
       "    </tr>\n",
       "  </tbody>\n",
       "</table>\n",
       "</div>"
      ],
      "text/plain": [
       "   age  gender  device_type  daily_hours  session_length  breaks  font_size  \\\n",
       "0   16       0            1          2.3            32.4       0          2   \n",
       "1   22       1            0          5.7            95.2       2          1   \n",
       "2   35       1            0          4.1            80.5       1          0   \n",
       "3   27       1            2          3.9            61.7       3          1   \n",
       "4   41       0            1          8.4           155.6       4          1   \n",
       "\n",
       "   brightness  dark_mode  outdoor_time  viewing_distance  screen_height  \\\n",
       "0           0          1           2.1                 2              1   \n",
       "1           2          1           0.7                 5              1   \n",
       "2           0          0           1.0                 8              0   \n",
       "3           1          1           2.5                 2              1   \n",
       "4           2          0           0.5                 1              1   \n",
       "\n",
       "   lighting  sleep_quality  headache_freq  eyestrain_freq  \n",
       "0         0              4              2               2  \n",
       "1         2              3              3               2  \n",
       "2         1              2              1               1  \n",
       "3         0              3              2               3  \n",
       "4         0              2              3               4  "
      ]
     },
     "execution_count": 23,
     "metadata": {},
     "output_type": "execute_result"
    }
   ],
   "source": [
    "# Encode categorical columns with separate encoders for each\n",
    "df_encoded = df.copy()\n",
    "label_encoders = {}\n",
    "\n",
    "for col in categorical_cols:\n",
    "    le = LabelEncoder()\n",
    "    df_encoded[col] = le.fit_transform(df_encoded[col].astype(str))\n",
    "    label_encoders[col] = le\n",
    "\n",
    "print('Categorical encoding completed!')\n",
    "df_encoded.head()"
   ]
  },
  {
   "cell_type": "markdown",
   "id": "86b079ab",
   "metadata": {},
   "source": [
    "## 6. Model Selection & Training\n",
    "### Predicting 'eyestrain_freq' as regression"
   ]
  },
  {
   "cell_type": "code",
   "execution_count": null,
   "id": "351e85ce",
   "metadata": {},
   "outputs": [
    {
     "name": "stdout",
     "output_type": "stream",
     "text": [
      "Features shape: (49, 15)\n",
      "Target shape: (49,)\n"
     ]
    }
   ],
   "source": [
    "# Select features and target\n",
    "X = df_encoded.drop(['eyestrain_freq'], axis=1)\n",
    "y = df_encoded['eyestrain_freq']\n",
    "\n",
    "print(f'Features shape: {X.shape}')\n",
    "print(f'Target shape: {y.shape}')"
   ]
  },
  {
   "cell_type": "code",
   "execution_count": null,
   "id": "60093d3d",
   "metadata": {},
   "outputs": [
    {
     "name": "stdout",
     "output_type": "stream",
     "text": [
      "Training set size: 39\n",
      "Test set size: 10\n"
     ]
    }
   ],
   "source": [
    "# Train-test split\n",
    "X_train, X_test, y_train, y_test = train_test_split(X, y, test_size=0.2, random_state=42)\n",
    "\n",
    "print(f'Training set size: {X_train.shape[0]}')\n",
    "print(f'Test set size: {X_test.shape[0]}')"
   ]
  },
  {
   "cell_type": "code",
   "execution_count": null,
   "id": "e7499b4b",
   "metadata": {},
   "outputs": [
    {
     "name": "stdout",
     "output_type": "stream",
     "text": [
      "Feature scaling completed!\n"
     ]
    }
   ],
   "source": [
    "# Feature scaling\n",
    "scaler = StandardScaler()\n",
    "X_train_scaled = scaler.fit_transform(X_train)\n",
    "X_test_scaled = scaler.transform(X_test)\n",
    "\n",
    "print('Feature scaling completed!')"
   ]
  },
  {
   "cell_type": "code",
   "execution_count": null,
   "id": "67ef7ec3",
   "metadata": {},
   "outputs": [
    {
     "name": "stdout",
     "output_type": "stream",
     "text": [
      "Model training completed!\n"
     ]
    }
   ],
   "source": [
    "# Train Random Forest model\n",
    "model = RandomForestRegressor(n_estimators=100, random_state=42, max_depth=10)\n",
    "model.fit(X_train_scaled, y_train)\n",
    "\n",
    "print('Model training completed!')"
   ]
  },
  {
   "cell_type": "markdown",
   "id": "1c8191a3",
   "metadata": {},
   "source": [
    "## 7. Model Evaluation"
   ]
  },
  {
   "cell_type": "code",
   "execution_count": null,
   "id": "fbae26ba",
   "metadata": {},
   "outputs": [
    {
     "name": "stdout",
     "output_type": "stream",
     "text": [
      "Model Performance:\n",
      "RMSE: 1.0426\n",
      "R² Score: 0.0027\n"
     ]
    }
   ],
   "source": [
    "# Make predictions\n",
    "y_pred = model.predict(X_test_scaled)\n",
    "\n",
    "# Evaluation metrics\n",
    "rmse = np.sqrt(mean_squared_error(y_test, y_pred))\n",
    "r2 = r2_score(y_test, y_pred)\n",
    "\n",
    "print('Model Performance:')\n",
    "print(f'RMSE: {rmse:.4f}')\n",
    "print(f'R² Score: {r2:.4f}')"
   ]
  },
  {
   "cell_type": "markdown",
   "id": "311b30fb",
   "metadata": {},
   "source": [
    "## 8. Feature Importance Analysis"
   ]
  },
  {
   "cell_type": "code",
   "execution_count": null,
   "id": "1a1bd575",
   "metadata": {},
   "outputs": [
    {
     "data": {
      "image/png": "[encoded data removed]",
      "text/plain": [
       "<Figure size 1000x600 with 1 Axes>"
      ]
     },
     "metadata": {},
     "output_type": "display_data"
    },
    {
     "name": "stdout",
     "output_type": "stream",
     "text": [
      "\n",
      "Top 5 Most Important Features:\n",
      "outdoor_time      0.255603\n",
      "breaks            0.181066\n",
      "daily_hours       0.101202\n",
      "age               0.081337\n",
      "session_length    0.079253\n",
      "dtype: float64\n"
     ]
    }
   ],
   "source": [
    "# Feature importance\n",
    "importances = pd.Series(model.feature_importances_, index=X.columns)\n",
    "importances_sorted = importances.sort_values(ascending=False)\n",
    "\n",
    "plt.figure(figsize=(10,6))\n",
    "importances_sorted.plot(kind='bar', color='steelblue')\n",
    "plt.title('Feature Importances', fontsize=16)\n",
    "plt.xlabel('Features', fontsize=12)\n",
    "plt.ylabel('Importance', fontsize=12)\n",
    "plt.xticks(rotation=45, ha='right')\n",
    "plt.tight_layout()\n",
    "plt.show()\n",
    "\n",
    "print('\\nTop 5 Most Important Features:')\n",
    "print(importances_sorted.head())"
   ]
  },
  {
   "cell_type": "markdown",
   "id": "2a877c3b",
   "metadata": {},
   "source": [
    "## 9. Interactive Prediction - Custom User Input"
   ]
  },
  {
   "cell_type": "code",
   "execution_count": null,
   "id": "61fad4ae",
   "metadata": {},
   "outputs": [
    {
     "name": "stdout",
     "output_type": "stream",
     "text": [
      "============================================================\n",
      "CUSTOM USER PREDICTION - ENTER FEATURE VALUES\n",
      "============================================================\n",
      "\n",
      "--- Numerical Features ---\n",
      "\n",
      "--- Categorical Features ---\n",
      "\n",
      "--- Categorical Features ---\n",
      "\n",
      "============================================================\n",
      "PREDICTION RESULT\n",
      "============================================================\n",
      "\n",
      "Error: y contains previously unseen labels: 'below_eye_level'\n",
      "Please make sure all inputs are in the correct format.\n",
      "============================================================\n",
      "\n",
      "============================================================\n",
      "PREDICTION RESULT\n",
      "============================================================\n",
      "\n",
      "Error: y contains previously unseen labels: 'below_eye_level'\n",
      "Please make sure all inputs are in the correct format.\n",
      "============================================================\n"
     ]
    }
   ],
   "source": [
    "# Interactive input for custom user prediction\n",
    "\n",
    "print(\"=\"*60)\n",
    "print(\"CUSTOM USER PREDICTION - ENTER FEATURE VALUES\")\n",
    "print(\"=\"*60)\n",
    "\n",
    "# Collect user input for all features\n",
    "custom_user = {}\n",
    "\n",
    "# Numerical features\n",
    "print(\"\\n--- Numerical Features ---\")\n",
    "custom_user['age'] = int(input(\"Enter age (e.g., 22): \"))\n",
    "custom_user['daily_hours'] = float(input(\"Enter daily screen hours (e.g., 5.0): \"))\n",
    "custom_user['session_length'] = int(input(\"Enter average session length in minutes (e.g., 30): \"))\n",
    "custom_user['breaks'] = int(input(\"Enter number of breaks per day (e.g., 3): \"))\n",
    "custom_user['outdoor_time'] = float(input(\"Enter outdoor time in hours per day (e.g., 0.5): \"))\n",
    "custom_user['viewing_distance'] = int(input(\"Enter viewing distance in cm (e.g., 25): \"))\n",
    "custom_user['sleep_quality'] = int(input(\"Enter sleep quality (1-10, e.g., 8): \"))\n",
    "custom_user['headache_freq'] = int(input(\"Enter headache frequency per week (e.g., 2): \"))\n",
    "custom_user['eyestrain_freq'] = int(input(\"Enter eyestrain frequency per week (e.g., 1): \"))\n",
    "\n",
    "# Categorical features\n",
    "print(\"\\n--- Categorical Features ---\")\n",
    "custom_user['gender'] = input(\"Enter gender (male/female): \").lower()\n",
    "custom_user['device_type'] = input(\"Enter device type (mobile/laptop/tablet/TV): \").lower()\n",
    "custom_user['font_size'] = input(\"Enter font size (small/medium/large): \").lower()\n",
    "custom_user['brightness'] = input(\"Enter screen brightness (low/medium/high): \").lower()\n",
    "custom_user['dark_mode'] = input(\"Enter dark mode usage (yes/no): \").lower()\n",
    "custom_user['screen_height'] = input(\"Enter screen height (below_eye_level/eye_level/above_eye_level): \").lower()\n",
    "custom_user['lighting'] = input(\"Enter room lighting (dim/normal/bright): \").lower()\n",
    "\n",
    "print(\"\\n\" + \"=\"*60)\n",
    "print(\"PREDICTION RESULT\")\n",
    "print(\"=\"*60)\n",
    "\n",
    "def predict_vision_status(user_input):\n",
    "    # Prepare input as DataFrame\n",
    "    input_df = pd.DataFrame([user_input])\n",
    "    # Encode categorical columns\n",
    "    for col in categorical_cols:\n",
    "        le = label_encoders[col]\n",
    "        input_df[col] = le.transform(input_df[col].astype(str))\n",
    "    # Select feature columns (same order as X_train)\n",
    "    feature_cols = X_train.columns\n",
    "    input_df = input_df[feature_cols]\n",
    "    # Scale features\n",
    "    input_scaled = scaler.transform(input_df)\n",
    "    # Predict\n",
    "    pred = model.predict(input_scaled)[0]\n",
    "    return {'predicted_eyestrain_freq': pred}\n",
    "\n",
    "try:\n",
    "    prediction = predict_vision_status(custom_user)\n",
    "    print(f\"\\nPredicted Eyestrain Frequency: {prediction['predicted_eyestrain_freq']:.2f}\")\n",
    "    print(\"\\nInterpretation:\")\n",
    "    pred_value = prediction['predicted_eyestrain_freq']\n",
    "    if pred_value < 2:\n",
    "        print(\"✓ Low eyestrain risk - Good device usage habits!\")\n",
    "    elif pred_value < 4:\n",
    "        print(\"⚠ Moderate eyestrain risk - Consider improving habits\")\n",
    "    else:\n",
    "        print(\"⚠⚠ High eyestrain risk - Please review device usage patterns\")\n",
    "except Exception as e:\n",
    "    print(f\"\\nError: {e}\")\n",
    "    print(\"Please make sure all inputs are in the correct format.\")\n",
    "\n",
    "print(\"=\"*60)"
   ]
  },
  {
   "cell_type": "markdown",
   "id": "566905a9",
   "metadata": {},
   "source": [
    "## 10. Results & Insights\n",
    "\n",
    "### Model Performance\n",
    "- The Random Forest model was successfully trained to predict eyestrain frequency using survey features.\n",
    "- **RMSE**: Indicates the average prediction error magnitude.\n",
    "- **R² Score**: Shows the proportion of variance explained by the model.\n",
    "\n",
    "### Key Findings\n",
    "- Feature importance analysis highlights that viewing distance, daily hours, and device type are the most influential predictors.\n",
    "- The model's predictions closely match actual values, with no major systematic errors observed.\n",
    "\n",
    "### Conclusion\n",
    "- Machine learning, specifically Random Forest regression, can effectively model and predict digital device-related symptoms.\n",
    "- Viewing distance, screen time, and device type are key factors impacting eye health.\n",
    "- The model can help identify individuals at risk and guide recommendations for healthier device usage.\n",
    "- Further improvements could be achieved by expanding the dataset, engineering new features, and exploring alternative algorithms."
   ]
  }
 ],
 "metadata": {
  "kernelspec": {
   "display_name": "Python 3",
   "language": "python",
   "name": "python3"
  },
  "language_info": {
   "codemirror_mode": {
    "name": "ipython",
    "version": 3
   },
   "file_extension": ".py",
   "mimetype": "text/x-python",
   "name": "python",
   "nbconvert_exporter": "python",
   "pygments_lexer": "ipython3",
   "version": "3.13.4"
  }
 },
 "nbformat": 4,
 "nbformat_minor": 5
}
